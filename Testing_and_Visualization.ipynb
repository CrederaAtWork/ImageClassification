{
 "cells": [
  {
   "cell_type": "markdown",
   "metadata": {},
   "source": [
    "## Imports and Vairable definitions"
   ]
  },
  {
   "cell_type": "code",
   "execution_count": 1,
   "metadata": {},
   "outputs": [
    {
     "name": "stdout",
     "output_type": "stream",
     "text": [
      "2.0.0\n"
     ]
    }
   ],
   "source": [
    "import os\n",
    "import tensorflow as tf\n",
    "# import keras\n",
    "import numpy as np\n",
    "import matplotlib.pyplot as plt\n",
    "from PIL import Image\n",
    "\n",
    "print(tf.__version__)"
   ]
  },
  {
   "cell_type": "code",
   "execution_count": 2,
   "metadata": {},
   "outputs": [],
   "source": [
    "IMG_DIR = '/Users/jthomas/Code/DataScienceSIG/furniture-detector/img/'\n",
    "TRAIN_DIR = IMG_DIR + 'train/'\n",
    "VAL_DIR =  IMG_DIR + 'val/'\n",
    "MODEL_DIR = '/Users/jthomas/Code/DataScienceSIG/saved-models/base_keras.h5'\n",
    "\n",
    "IMAGE_SIZE = 224\n",
    "BATCH_SIZE = 10\n",
    "\n",
    "CLASS_INDICES = {'bed': 0, 'chair': 1, 'sofa': 2, 'swivelchair': 3, 'table': 4}"
   ]
  },
  {
   "cell_type": "markdown",
   "metadata": {},
   "source": [
    "## Load model and predict\n",
    "Load the saved model from the .h5 file and then predict results for the validation image set"
   ]
  },
  {
   "cell_type": "code",
   "execution_count": 3,
   "metadata": {},
   "outputs": [
    {
     "name": "stdout",
     "output_type": "stream",
     "text": [
      "Found 423 images belonging to 5 classes.\n"
     ]
    }
   ],
   "source": [
    "model = tf.keras.models.load_model(MODEL_DIR)\n",
    "\n",
    "datagen = tf.keras.preprocessing.image.ImageDataGenerator()\n",
    "\n",
    "val_generator = datagen.flow_from_directory(\n",
    "    VAL_DIR,\n",
    "    target_size=(IMAGE_SIZE, IMAGE_SIZE),\n",
    "    batch_size=BATCH_SIZE,\n",
    "    shuffle=False)\n",
    "\n",
    "CLASS_INDICES = val_generator.class_indices # Update class indexes based on results of generator\n",
    "\n",
    "predictions = model.predict(\n",
    "    val_generator,\n",
    "    use_multiprocessing=True\n",
    ") "
   ]
  },
  {
   "cell_type": "code",
   "execution_count": 4,
   "metadata": {},
   "outputs": [
    {
     "name": "stdout",
     "output_type": "stream",
     "text": [
      "{'bed': 0, 'chair': 1, 'sofa': 2, 'swivelchair': 3, 'table': 4}\n"
     ]
    }
   ],
   "source": [
    "print(val_generator.class_indices)"
   ]
  },
  {
   "cell_type": "markdown",
   "metadata": {},
   "source": [
    "## Visualize input images\n",
    "View a sample of the images that are being fed in as validation data"
   ]
  },
  {
   "cell_type": "code",
   "execution_count": 5,
   "metadata": {},
   "outputs": [],
   "source": [
    "val_image_names = os.listdir(VAL_DIR)\n",
    "\n",
    "plt.figure(figsize=(10,10))\n",
    "for key, val in CLASS_INDICES.items():\n",
    "    image_names = os.listdir(VAL_DIR + key)\n",
    "    for i in range(5):\n",
    "        plt.subplot(5, 5, (i*5)+val+1) #val is 0-4 so it functions as an 0-based itterator\n",
    "        plt.xticks([])\n",
    "        plt.yticks([])\n",
    "        plt.grid(False)\n",
    "\n",
    "        img = Image.open(os.path.join(VAL_DIR,key,image_names[i]))\n",
    "        plt.imshow(img)\n",
    "        plt.xlabel(key)\n",
    "plt.show()"
   ]
  },
  {
   "cell_type": "markdown",
   "metadata": {},
   "source": [
    "## Plot the results of the validation test"
   ]
  },
  {
   "cell_type": "code",
   "execution_count": 0,
   "metadata": {},
   "outputs": [],
   "source": [
    "def plot_image(class_labels, predictions_array, true_label, img_path):\n",
    "  plt.grid(False)\n",
    "  plt.xticks([])\n",
    "  plt.yticks([])\n",
    "\n",
    "  img = Image.open(img_path)\n",
    "  plt.imshow(img)\n",
    "\n",
    "  predicted_label = np.argmax(predictions_array)\n",
    "  if predicted_label == true_label:\n",
    "    color = 'blue'\n",
    "  else:\n",
    "    color = 'red'\n",
    "\n",
    "  plt.xlabel(\"{} {:2.0f}% ({})\".format(class_labels[predicted_label],\n",
    "                                100*np.max(predictions_array),\n",
    "                                class_labels[true_label]),\n",
    "                                color=color)\n",
    "\n",
    "\n",
    "def plot_value_array(class_labels, predictions_array, true_label):\n",
    "  num_classes = class_labels.items().count\n",
    "  plt.grid(False)\n",
    "  plt.xticks(range(num_classes), class_labels.keys())\n",
    "  plt.yticks([])\n",
    "  thisplot = plt.bar(range(num_classes), predictions_array, color=\"#777777\")\n",
    "  plt.ylim([0, 1])\n",
    "  predicted_label = np.argmax(predictions_array)\n",
    "\n",
    "  thisplot[predicted_label].set_color('red')\n",
    "  thisplot[true_label].set_color('blue')\n",
    "\n",
    "\n",
    "# Plot the first X test images, their predicted labels, and the true labels.\n",
    "# Color correct predictions in blue and incorrect predictions in red.\n",
    "num_rows = 10\n",
    "num_cols = 2\n",
    "num_images = num_rows*num_cols\n",
    "plt.figure(figsize=(2*2*num_cols, 2*num_rows))\n",
    "for i in range(num_images):\n",
    "  predictions = predictions[i]\n",
    "  true_label = val_generator.classes[i]\n",
    "  img_path = val_generator.filepaths[i]\n",
    "\n",
    "  plt.subplot(num_rows, 2*num_cols, 2*i+1)\n",
    "  plot_image(CLASS_INDICES, predictions, true_label, img_path)\n",
    "  plt.subplot(num_rows, 2*num_cols, 2*i+2)\n",
    "  plot_value_array(CLASS_INDICES, predictions, true_label)\n",
    "plt.tight_layout()\n",
    "plt.show()"
   ]
  }
 ],
 "metadata": {
  "file_extension": ".py",
  "kernelspec": {
   "display_name": "Python 3",
   "language": "python",
   "name": "python3"
  },
  "language_info": {
   "codemirror_mode": {
    "name": "ipython",
    "version": 3
   },
   "file_extension": ".py",
   "mimetype": "text/x-python",
   "name": "python",
   "nbconvert_exporter": "python",
   "pygments_lexer": "ipython3",
   "version": "3.7.3"
  },
  "mimetype": "text/x-python",
  "name": "python",
  "npconvert_exporter": "python",
  "pygments_lexer": "ipython3",
  "version": 3
 },
 "nbformat": 4,
 "nbformat_minor": 2
}